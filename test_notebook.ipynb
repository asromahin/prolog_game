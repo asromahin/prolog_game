{
 "cells": [
  {
   "cell_type": "code",
   "execution_count": 2,
   "metadata": {},
   "outputs": [
    {
     "name": "stderr",
     "output_type": "stream",
     "text": [
      "Downloading: \"https://download.pytorch.org/models/densenet121-a639ec97.pth\" to /Users/pashkin/.cache/torch/hub/checkpoints/densenet121-a639ec97.pth\n",
      "81.3%IOPub message rate exceeded.\n",
      "The notebook server will temporarily stop sending output\n",
      "to the client in order to avoid crashing it.\n",
      "To change this limit, set the config variable\n",
      "`--NotebookApp.iopub_msg_rate_limit`.\n",
      "\n",
      "Current values:\n",
      "NotebookApp.iopub_msg_rate_limit=1000.0 (msgs/sec)\n",
      "NotebookApp.rate_limit_window=3.0 (secs)\n",
      "\n"
     ]
    },
    {
     "ename": "SystemExit",
     "evalue": "1",
     "output_type": "error",
     "traceback": [
      "An exception has occurred, use %tb to see the full traceback.\n",
      "\u001b[0;31mSystemExit\u001b[0m\u001b[0;31m:\u001b[0m 1\n"
     ]
    },
    {
     "name": "stderr",
     "output_type": "stream",
     "text": [
      "/Users/pashkin/opt/anaconda3/envs/hack2020/lib/python3.8/site-packages/IPython/core/interactiveshell.py:3425: UserWarning: To exit: use 'exit', 'quit', or Ctrl-D.\n",
      "  warn(\"To exit: use 'exit', 'quit', or Ctrl-D.\", stacklevel=1)\n"
     ]
    }
   ],
   "source": [
    "from flask import Flask, render_template, request, redirect, url_for\n",
    "from get_images import get_images, get_path, get_directory\n",
    "from get_prediction import get_prediction\n",
    "from generate_html import generate_html\n",
    "from torchvision import models\n",
    "import json\n",
    "\n",
    "app = Flask(__name__)\n",
    "\n",
    "# mapping\n",
    "imagenet_class_mapping = json.load(open('imagenet_class_index.json'))\n",
    "\n",
    "# Make sure to pass `pretrained` as `True` to use the pretrained weights:\n",
    "model = models.densenet121(pretrained=True)\n",
    "# Since we are using our model only for inference, switch to `eval` mode:\n",
    "model.eval()\n",
    "\n",
    "\n",
    "def get_image_class(path):\n",
    "    get_images(path)\n",
    "    path = get_path(path)\n",
    "    images_with_tags = get_prediction(model, imagenet_class_mapping, path)\n",
    "    print(images_with_tags)\n",
    "    generate_html(images_with_tags)\n",
    "\n",
    "@app.route('/')\n",
    "def home():\n",
    "    return render_template('templates/home.html')\n",
    "\n",
    "\n",
    "@app.route('/', methods=['POST', 'GET'])\n",
    "def get_data():\n",
    "    if request.method == 'POST':\n",
    "        user = request.form['search']\n",
    "        get_image_class(user)\n",
    "        return redirect(url_for('success', name=get_directory(user)))\n",
    "\n",
    "\n",
    "@app.route('/success/<name>')\n",
    "def success(name):\n",
    "    return render_template('templates/image_class.html')\n",
    "\n",
    "\n",
    "if __name__ == '__main__' :\n",
    "    app.run(debug=True, host='127.0.0.1', port=8083)\n"
   ]
  },
  {
   "cell_type": "code",
   "execution_count": null,
   "metadata": {},
   "outputs": [
    {
     "name": "stdout",
     "output_type": "stream",
     "text": [
      " * Serving Flask app \"__main__\" (lazy loading)\n",
      " * Environment: production\n",
      "\u001b[31m   WARNING: This is a development server. Do not use it in a production deployment.\u001b[0m\n",
      "\u001b[2m   Use a production WSGI server instead.\u001b[0m\n",
      " * Debug mode: off\n"
     ]
    },
    {
     "name": "stderr",
     "output_type": "stream",
     "text": [
      "127.0.0.1 - - [31/Oct/2020 16:47:42] \"\u001b[37mGET / HTTP/1.1\u001b[0m\" 200 -\n",
      "127.0.0.1 - - [31/Oct/2020 16:47:42] \"\u001b[33mGET /favicon.ico HTTP/1.1\u001b[0m\" 404 -\n",
      "127.0.0.1 - - [31/Oct/2020 16:48:27] \"\u001b[37mGET / HTTP/1.1\u001b[0m\" 200 -\n"
     ]
    }
   ],
   "source": [
    "from flask import Flask, render_template, request, redirect, url_for\n",
    "from get_images import get_images, get_path, get_directory\n",
    "from get_prediction import get_prediction\n",
    "from generate_html import generate_html\n",
    "from torchvision import models\n",
    "import json\n",
    "\n",
    "app = Flask(__name__)\n",
    "\n",
    "# mapping\n",
    "imagenet_class_mapping = json.load(open('imagenet_class_index.json'))\n",
    "\n",
    "# Make sure to pass `pretrained` as `True` to use the pretrained weights:\n",
    "model = models.densenet121(pretrained=True)\n",
    "# Since we are using our model only for inference, switch to `eval` mode:\n",
    "model.eval()\n",
    "\n",
    "\n",
    "def get_image_class(path):\n",
    "    get_images(path)\n",
    "    path = get_path(path)\n",
    "    images_with_tags = get_prediction(model, imagenet_class_mapping, path)\n",
    "    print(images_with_tags)\n",
    "    generate_html(images_with_tags)\n",
    "\n",
    "@app.route('/')\n",
    "def home():\n",
    "    return render_template('home.html')\n",
    "\n",
    "\n",
    "@app.route('/', methods=['POST', 'GET'])\n",
    "def get_data():\n",
    "    if request.method == 'POST':\n",
    "        user = request.form['search']\n",
    "        get_image_class(user)\n",
    "        return redirect(url_for('success', name=get_directory(user)))\n",
    "\n",
    "\n",
    "@app.route('/success/<name>')\n",
    "def success(name):\n",
    "    return render_template('image_class.html')\n",
    "\n",
    "\n",
    "if __name__ == '__main__' :\n",
    "    app.run(debug=False, host='127.0.0.1', port=8083)"
   ]
  },
  {
   "cell_type": "code",
   "execution_count": null,
   "metadata": {},
   "outputs": [],
   "source": []
  }
 ],
 "metadata": {
  "kernelspec": {
   "display_name": "Python 3",
   "language": "python",
   "name": "python3"
  },
  "language_info": {
   "codemirror_mode": {
    "name": "ipython",
    "version": 3
   },
   "file_extension": ".py",
   "mimetype": "text/x-python",
   "name": "python",
   "nbconvert_exporter": "python",
   "pygments_lexer": "ipython3",
   "version": "3.8.5"
  }
 },
 "nbformat": 4,
 "nbformat_minor": 4
}
